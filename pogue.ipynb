{
 "cells": [
  {
   "cell_type": "code",
   "execution_count": 23,
   "id": "329f8e1c-eda6-4dc8-8028-06544427e419",
   "metadata": {},
   "outputs": [],
   "source": [
    "import os"
   ]
  },
  {
   "cell_type": "code",
   "execution_count": 11,
   "id": "0a32ebba-5627-40ba-9e11-9994853a2946",
   "metadata": {},
   "outputs": [
    {
     "name": "stdout",
     "output_type": "stream",
     "text": [
      "W0615 23:56:13.450022 140476583593792 bigquery_client.py:731] There is no apilog flag so non-critical logging is disabled.\n",
      "Waiting on bqjob_r737b7242d3ff0627_00000188c17cfb0b_1 ... (1s) Current status: DONE   \n"
     ]
    }
   ],
   "source": [
    "!bq query \\\n",
    "-n 0 \\\n",
    "--destination_table kidney_tx_dataset.kidneytx_prediction_columns \\\n",
    "--replace \\\n",
    "--use_legacy_sql=false \\\n",
    "'SELECT Case_output, Patient_Age_at_TX, Patient_Age_at_Biopsy, serum_creatinine, urea, dimethylamine, UA_Pro, UA_Hb, phenylacetylglutamine, Hypertension, trigonellin, lactate, citrate, hippurate, Sex, alanine, Diabetes \\\n",
    "FROM `kidney_tx_dataset.kidneytx`' "
   ]
  },
  {
   "cell_type": "code",
   "execution_count": 12,
   "id": "5e7ba5ee-10cc-4e76-97b6-1403df9812c4",
   "metadata": {},
   "outputs": [],
   "source": [
    "# Setting constants, properties\n",
    "#\n",
    "\n",
    "REGION = \"us-central1\"\n",
    "\n",
    "PROJECT = !(gcloud config get-value core/project)\n",
    "PROJECT = PROJECT[0]\n",
    "\n",
    "ARTIFACT_STORE = f\"gs://{PROJECT}-spectrain-artifact-store\"\n",
    "\n",
    "DATA_ROOT = f\"{ARTIFACT_STORE}/data\"\n",
    "TEST_FILE_PATH = f\"{DATA_ROOT}/test/dataset.csv\"\n",
    "API_ENDPOINT = f\"{REGION}-aiplatform.googleapis.com\"\n",
    "\n",
    "PIPELINE_ROOT = f\"{ARTIFACT_STORE}/pipeline\"\n",
    "DATASET_SOURCE = f\"bq://{PROJECT}.kidney_tx_dataset.kidneytx_prediction_columns\"\n",
    "PIPELINE_NAME = \"kidneytx\"\n",
    "TARGET_COLUMN = \"Case_output\""
   ]
  },
  {
   "cell_type": "code",
   "execution_count": 13,
   "id": "d66ef245-67db-4774-a58d-34c6d70c06c2",
   "metadata": {},
   "outputs": [],
   "source": [
    "os.environ[\"PROJECT\"] = PROJECT\n",
    "os.environ[\"REGION\"] = REGION\n",
    "os.environ[\"PIPELINE_ROOT\"] = PIPELINE_ROOT\n",
    "os.environ[\"DATASET_SOURCE\"] = DATASET_SOURCE\n",
    "os.environ[\"TARGET_COLUMN\"] = TARGET_COLUMN\n",
    "os.environ[\"PIPELINE_NAME\"] = PIPELINE_NAME"
   ]
  },
  {
   "cell_type": "code",
   "execution_count": 14,
   "id": "903efb59-a2c2-479e-85fb-baa962cef9cc",
   "metadata": {},
   "outputs": [
    {
     "name": "stdout",
     "output_type": "stream",
     "text": [
      "rm: cannot remove './pogue_python/pipeline_vertex_automl.py': No such file or directory\n"
     ]
    }
   ],
   "source": [
    "!rm ./pogue_python/pipeline_vertex_automl.py"
   ]
  },
  {
   "cell_type": "code",
   "execution_count": 15,
   "id": "84be6f1e-05a9-4441-bdaf-f022fd196837",
   "metadata": {},
   "outputs": [
    {
     "name": "stdout",
     "output_type": "stream",
     "text": [
      "Writing ./pogue_python/pipeline_vertex_automl.py\n"
     ]
    }
   ],
   "source": [
    "%%writefile ./pogue_python/pipeline_vertex_automl.py\n",
    "# ADDED BY ALEX\n",
    "# Copyright 2021 Google LLC\n",
    "\n",
    "# Licensed under the Apache License, Version 2.0 (the \"License\"); you may not\n",
    "# use this file except in compliance with the License. You may obtain a copy of\n",
    "# the License at\n",
    "\n",
    "# https://www.apache.org/licenses/LICENSE-2.0\n",
    "\n",
    "# Unless required by applicable law or agreed to in writing, software\n",
    "# distributed under the License is distributed on an \"AS IS\"\n",
    "# BASIS, WITHOUT WARRANTIES OR CONDITIONS OF ANY KIND, either\n",
    "# express or implied. See the License for the specific language governing\n",
    "# permissions and limitations under the License.\n",
    "\n",
    "\"\"\"Kubeflow Pipeline.\"\"\"\n",
    "\n",
    "import os\n",
    "\n",
    "from google_cloud_pipeline_components.aiplatform import (\n",
    "    AutoMLTabularTrainingJobRunOp,\n",
    "    EndpointCreateOp,\n",
    "    ModelDeployOp,\n",
    "    TabularDatasetCreateOp,\n",
    ")\n",
    "from kfp.v2 import dsl\n",
    "\n",
    "PIPELINE_ROOT = os.getenv(\"PIPELINE_ROOT\")\n",
    "PROJECT = os.getenv(\"PROJECT\")\n",
    "DATASET_SOURCE = os.getenv(\"DATASET_SOURCE\")\n",
    "PIPELINE_NAME = os.getenv(\"PIPELINE_NAME\", \"covertype\")\n",
    "DISPLAY_NAME = os.getenv(\"MODEL_DISPLAY_NAME\", PIPELINE_NAME)\n",
    "TARGET_COLUMN = os.getenv(\"TARGET_COLUMN\", \"Cover_Type\")\n",
    "SERVING_MACHINE_TYPE = os.getenv(\"SERVING_MACHINE_TYPE\", \"n1-standard-16\")\n",
    "\n",
    "\n",
    "@dsl.pipeline(\n",
    "    name=f\"{PIPELINE_NAME}-vertex-automl-pipeline\",\n",
    "    description=f\"AutoML Vertex Pipeline for {PIPELINE_NAME}\",\n",
    "    pipeline_root=PIPELINE_ROOT,\n",
    ")\n",
    "def create_pipeline():\n",
    "\n",
    "    dataset_create_task = TabularDatasetCreateOp(\n",
    "        display_name=DISPLAY_NAME,\n",
    "        bq_source=DATASET_SOURCE,\n",
    "        project=PROJECT,\n",
    "    )\n",
    "\n",
    "    automl_training_task = AutoMLTabularTrainingJobRunOp(\n",
    "        project=PROJECT,\n",
    "        display_name=DISPLAY_NAME,\n",
    "        optimization_prediction_type=\"classification\",\n",
    "        dataset=dataset_create_task.outputs[\"dataset\"],\n",
    "        target_column=TARGET_COLUMN,\n",
    "    )\n",
    "\n",
    "    endpoint_create_task = EndpointCreateOp(\n",
    "        project=PROJECT,\n",
    "        display_name=DISPLAY_NAME,\n",
    "    )\n",
    "\n",
    "    model_deploy_task = ModelDeployOp(  # pylint: disable=unused-variable\n",
    "        model=automl_training_task.outputs[\"model\"],\n",
    "        endpoint=endpoint_create_task.outputs[\"endpoint\"],\n",
    "        deployed_model_display_name=DISPLAY_NAME,\n",
    "        dedicated_resources_machine_type=SERVING_MACHINE_TYPE,\n",
    "        dedicated_resources_min_replica_count=1,\n",
    "        dedicated_resources_max_replica_count=1,\n",
    "    )"
   ]
  },
  {
   "cell_type": "code",
   "execution_count": 16,
   "id": "19ad0ef5-20c2-45aa-9056-9674dbec40f0",
   "metadata": {},
   "outputs": [
    {
     "name": "stdout",
     "output_type": "stream",
     "text": [
      "env: PROJECT=qwiklabs-asl-00-c812c3b423f2\n",
      "env: REGION=us-central1\n",
      "env: PIPELINE_ROOT=gs://qwiklabs-asl-00-c812c3b423f2-spectrain-artifact-store/pipeline\n",
      "env: DATASET_SOURCE=bq://qwiklabs-asl-00-c812c3b423f2.kidney_tx_dataset.kidneytx_prediction_columns\n",
      "env: TARGET_COLUMN=Case_output\n",
      "env: PIPELINE_NAME=kidneytx\n"
     ]
    }
   ],
   "source": [
    "vars_of_interest = [\"PIPELINE_ROOT\", \"PROJECT\", \"REGION\", \"DATASET_SOURCE\", \"TARGET_COLUMN\", \"PIPELINE_NAME\"]\n",
    "env_var_lines = [f\"env: {var}={os.environ[var]}\" for var in os.environ if var in vars_of_interest]\n",
    "for line in env_var_lines:\n",
    "    print(line)"
   ]
  },
  {
   "cell_type": "code",
   "execution_count": 17,
   "id": "debe47b9-50ba-4372-9799-62fa858ff119",
   "metadata": {},
   "outputs": [],
   "source": [
    "PIPELINE_JSON = \"spectrain_automl_vertex_pipeline.json\""
   ]
  },
  {
   "cell_type": "code",
   "execution_count": 18,
   "id": "68255b6f-d7fe-4613-b7a8-96befc3f4b40",
   "metadata": {},
   "outputs": [
    {
     "name": "stdout",
     "output_type": "stream",
     "text": [
      "gs://qwiklabs-asl-00-c812c3b423f2-spectrain-artifact-store/\n"
     ]
    }
   ],
   "source": [
    "!gsutil ls | grep ^{ARTIFACT_STORE}/$ || gsutil mb -l {REGION} {ARTIFACT_STORE}"
   ]
  },
  {
   "cell_type": "code",
   "execution_count": 19,
   "id": "f1c378fb-239c-4838-bdab-206d1eaa5ab3",
   "metadata": {},
   "outputs": [
    {
     "name": "stdout",
     "output_type": "stream",
     "text": [
      "bq://qwiklabs-asl-00-c812c3b423f2.kidney_tx_dataset.kidneytx_prediction_columns\n"
     ]
    },
    {
     "name": "stderr",
     "output_type": "stream",
     "text": [
      "/home/jupyter/.local/lib/python3.7/site-packages/kfp/v2/compiler/compiler.py:1293: FutureWarning: APIs imported from the v1 namespace (e.g. kfp.dsl, kfp.components, etc) will not be supported by the v2 compiler since v2.0.0\n",
      "  category=FutureWarning,\n"
     ]
    }
   ],
   "source": [
    "from kfp.v2 import compiler\n",
    "from pogue_python.pipeline_vertex_automl import create_pipeline\n",
    "\n",
    "print(os.getenv(\"DATASET_SOURCE\"))\n",
    "\n",
    "compiler.Compiler().compile(\n",
    "    pipeline_func=create_pipeline, \n",
    "    package_path=PIPELINE_JSON,\n",
    ")"
   ]
  },
  {
   "cell_type": "code",
   "execution_count": 20,
   "id": "d44cc3a5-ba07-4740-ba75-e09fbeae669d",
   "metadata": {},
   "outputs": [
    {
     "name": "stdout",
     "output_type": "stream",
     "text": [
      "            \"bq_source\": {\n",
      "              \"type\": \"STRING\"\n",
      "            },\n",
      "            \"display_name\": {\n",
      "              \"type\": \"STRING\"\n",
      "            },\n",
      "--\n",
      "                \"bq_source\": {\n",
      "                  \"runtimeValue\": {\n",
      "                    \"constantValue\": {\n",
      "                      \"stringValue\": \"bq://qwiklabs-asl-00-c812c3b423f2.kidney_tx_dataset.kidneytx_prediction_columns\"\n",
      "                    }\n",
      "                  }\n"
     ]
    }
   ],
   "source": [
    "!grep -A5 \"\\\"bq_source\\\":\" {PIPELINE_JSON}"
   ]
  },
  {
   "cell_type": "code",
   "execution_count": 25,
   "id": "c5955922-dfe3-4479-af2d-3f7aba42dc62",
   "metadata": {},
   "outputs": [
    {
     "name": "stdout",
     "output_type": "stream",
     "text": [
      "Creating PipelineJob\n",
      "PipelineJob created. Resource name: projects/469700469475/locations/us-central1/pipelineJobs/kidneytx-vertex-automl-pipeline-20230616061929\n",
      "To use this PipelineJob in another session:\n",
      "pipeline_job = aiplatform.PipelineJob.get('projects/469700469475/locations/us-central1/pipelineJobs/kidneytx-vertex-automl-pipeline-20230616061929')\n",
      "View Pipeline Job:\n",
      "https://console.cloud.google.com/vertex-ai/locations/us-central1/pipelines/runs/kidneytx-vertex-automl-pipeline-20230616061929?project=469700469475\n",
      "PipelineJob projects/469700469475/locations/us-central1/pipelineJobs/kidneytx-vertex-automl-pipeline-20230616061929 current state:\n",
      "PipelineState.PIPELINE_STATE_RUNNING\n",
      "PipelineJob projects/469700469475/locations/us-central1/pipelineJobs/kidneytx-vertex-automl-pipeline-20230616061929 current state:\n",
      "PipelineState.PIPELINE_STATE_RUNNING\n",
      "PipelineJob projects/469700469475/locations/us-central1/pipelineJobs/kidneytx-vertex-automl-pipeline-20230616061929 current state:\n",
      "PipelineState.PIPELINE_STATE_RUNNING\n",
      "PipelineJob projects/469700469475/locations/us-central1/pipelineJobs/kidneytx-vertex-automl-pipeline-20230616061929 current state:\n",
      "PipelineState.PIPELINE_STATE_RUNNING\n",
      "PipelineJob projects/469700469475/locations/us-central1/pipelineJobs/kidneytx-vertex-automl-pipeline-20230616061929 current state:\n",
      "PipelineState.PIPELINE_STATE_RUNNING\n",
      "PipelineJob projects/469700469475/locations/us-central1/pipelineJobs/kidneytx-vertex-automl-pipeline-20230616061929 current state:\n",
      "PipelineState.PIPELINE_STATE_RUNNING\n",
      "PipelineJob projects/469700469475/locations/us-central1/pipelineJobs/kidneytx-vertex-automl-pipeline-20230616061929 current state:\n",
      "PipelineState.PIPELINE_STATE_RUNNING\n",
      "PipelineJob projects/469700469475/locations/us-central1/pipelineJobs/kidneytx-vertex-automl-pipeline-20230616061929 current state:\n",
      "PipelineState.PIPELINE_STATE_RUNNING\n",
      "PipelineJob projects/469700469475/locations/us-central1/pipelineJobs/kidneytx-vertex-automl-pipeline-20230616061929 current state:\n",
      "PipelineState.PIPELINE_STATE_RUNNING\n",
      "PipelineJob projects/469700469475/locations/us-central1/pipelineJobs/kidneytx-vertex-automl-pipeline-20230616061929 current state:\n",
      "PipelineState.PIPELINE_STATE_RUNNING\n",
      "PipelineJob projects/469700469475/locations/us-central1/pipelineJobs/kidneytx-vertex-automl-pipeline-20230616061929 current state:\n",
      "PipelineState.PIPELINE_STATE_RUNNING\n",
      "PipelineJob projects/469700469475/locations/us-central1/pipelineJobs/kidneytx-vertex-automl-pipeline-20230616061929 current state:\n",
      "PipelineState.PIPELINE_STATE_RUNNING\n",
      "PipelineJob projects/469700469475/locations/us-central1/pipelineJobs/kidneytx-vertex-automl-pipeline-20230616061929 current state:\n",
      "PipelineState.PIPELINE_STATE_RUNNING\n",
      "PipelineJob projects/469700469475/locations/us-central1/pipelineJobs/kidneytx-vertex-automl-pipeline-20230616061929 current state:\n",
      "PipelineState.PIPELINE_STATE_RUNNING\n",
      "PipelineJob projects/469700469475/locations/us-central1/pipelineJobs/kidneytx-vertex-automl-pipeline-20230616061929 current state:\n",
      "PipelineState.PIPELINE_STATE_RUNNING\n",
      "PipelineJob projects/469700469475/locations/us-central1/pipelineJobs/kidneytx-vertex-automl-pipeline-20230616061929 current state:\n",
      "PipelineState.PIPELINE_STATE_RUNNING\n",
      "PipelineJob projects/469700469475/locations/us-central1/pipelineJobs/kidneytx-vertex-automl-pipeline-20230616061929 current state:\n",
      "PipelineState.PIPELINE_STATE_RUNNING\n",
      "PipelineJob projects/469700469475/locations/us-central1/pipelineJobs/kidneytx-vertex-automl-pipeline-20230616061929 current state:\n",
      "PipelineState.PIPELINE_STATE_RUNNING\n",
      "PipelineJob projects/469700469475/locations/us-central1/pipelineJobs/kidneytx-vertex-automl-pipeline-20230616061929 current state:\n",
      "PipelineState.PIPELINE_STATE_RUNNING\n",
      "PipelineJob projects/469700469475/locations/us-central1/pipelineJobs/kidneytx-vertex-automl-pipeline-20230616061929 current state:\n",
      "PipelineState.PIPELINE_STATE_RUNNING\n",
      "PipelineJob projects/469700469475/locations/us-central1/pipelineJobs/kidneytx-vertex-automl-pipeline-20230616061929 current state:\n",
      "PipelineState.PIPELINE_STATE_RUNNING\n",
      "PipelineJob projects/469700469475/locations/us-central1/pipelineJobs/kidneytx-vertex-automl-pipeline-20230616061929 current state:\n",
      "PipelineState.PIPELINE_STATE_RUNNING\n",
      "PipelineJob projects/469700469475/locations/us-central1/pipelineJobs/kidneytx-vertex-automl-pipeline-20230616061929 current state:\n",
      "PipelineState.PIPELINE_STATE_RUNNING\n",
      "PipelineJob projects/469700469475/locations/us-central1/pipelineJobs/kidneytx-vertex-automl-pipeline-20230616061929 current state:\n",
      "PipelineState.PIPELINE_STATE_RUNNING\n",
      "PipelineJob projects/469700469475/locations/us-central1/pipelineJobs/kidneytx-vertex-automl-pipeline-20230616061929 current state:\n",
      "PipelineState.PIPELINE_STATE_RUNNING\n",
      "PipelineJob projects/469700469475/locations/us-central1/pipelineJobs/kidneytx-vertex-automl-pipeline-20230616061929 current state:\n",
      "PipelineState.PIPELINE_STATE_RUNNING\n",
      "PipelineJob projects/469700469475/locations/us-central1/pipelineJobs/kidneytx-vertex-automl-pipeline-20230616061929 current state:\n",
      "PipelineState.PIPELINE_STATE_RUNNING\n",
      "PipelineJob projects/469700469475/locations/us-central1/pipelineJobs/kidneytx-vertex-automl-pipeline-20230616061929 current state:\n",
      "PipelineState.PIPELINE_STATE_RUNNING\n",
      "PipelineJob projects/469700469475/locations/us-central1/pipelineJobs/kidneytx-vertex-automl-pipeline-20230616061929 current state:\n",
      "PipelineState.PIPELINE_STATE_RUNNING\n",
      "PipelineJob projects/469700469475/locations/us-central1/pipelineJobs/kidneytx-vertex-automl-pipeline-20230616061929 current state:\n",
      "PipelineState.PIPELINE_STATE_RUNNING\n",
      "PipelineJob projects/469700469475/locations/us-central1/pipelineJobs/kidneytx-vertex-automl-pipeline-20230616061929 current state:\n",
      "PipelineState.PIPELINE_STATE_RUNNING\n",
      "PipelineJob projects/469700469475/locations/us-central1/pipelineJobs/kidneytx-vertex-automl-pipeline-20230616061929 current state:\n",
      "PipelineState.PIPELINE_STATE_RUNNING\n",
      "PipelineJob projects/469700469475/locations/us-central1/pipelineJobs/kidneytx-vertex-automl-pipeline-20230616061929 current state:\n",
      "PipelineState.PIPELINE_STATE_RUNNING\n",
      "PipelineJob projects/469700469475/locations/us-central1/pipelineJobs/kidneytx-vertex-automl-pipeline-20230616061929 current state:\n",
      "PipelineState.PIPELINE_STATE_RUNNING\n",
      "PipelineJob projects/469700469475/locations/us-central1/pipelineJobs/kidneytx-vertex-automl-pipeline-20230616061929 current state:\n",
      "PipelineState.PIPELINE_STATE_RUNNING\n",
      "PipelineJob projects/469700469475/locations/us-central1/pipelineJobs/kidneytx-vertex-automl-pipeline-20230616061929 current state:\n",
      "PipelineState.PIPELINE_STATE_RUNNING\n",
      "PipelineJob projects/469700469475/locations/us-central1/pipelineJobs/kidneytx-vertex-automl-pipeline-20230616061929 current state:\n",
      "PipelineState.PIPELINE_STATE_RUNNING\n",
      "PipelineJob run completed. Resource name: projects/469700469475/locations/us-central1/pipelineJobs/kidneytx-vertex-automl-pipeline-20230616061929\n"
     ]
    }
   ],
   "source": [
    "from google.cloud import aiplatform\n",
    "\n",
    "aiplatform.init(project=PROJECT, location=REGION)\n",
    "\n",
    "pipeline = aiplatform.PipelineJob(\n",
    "    display_name=\"automl_spectrain_kfp_pipeline\",\n",
    "    template_path=PIPELINE_JSON,\n",
    "    enable_caching=True,\n",
    ")\n",
    "\n",
    "pipeline.run()"
   ]
  },
  {
   "cell_type": "code",
   "execution_count": null,
   "id": "f1dc4c99-f009-450a-a76f-135506c9ba32",
   "metadata": {},
   "outputs": [],
   "source": []
  }
 ],
 "metadata": {
  "environment": {
   "kernel": "python3",
   "name": "tf2-gpu.2-8.m108",
   "type": "gcloud",
   "uri": "gcr.io/deeplearning-platform-release/tf2-gpu.2-8:m108"
  },
  "kernelspec": {
   "display_name": "Python 3 (ipykernel)",
   "language": "python",
   "name": "python3"
  },
  "language_info": {
   "codemirror_mode": {
    "name": "ipython",
    "version": 3
   },
   "file_extension": ".py",
   "mimetype": "text/x-python",
   "name": "python",
   "nbconvert_exporter": "python",
   "pygments_lexer": "ipython3",
   "version": "3.7.12"
  }
 },
 "nbformat": 4,
 "nbformat_minor": 5
}
