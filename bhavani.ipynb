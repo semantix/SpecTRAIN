{
 "cells": [
  {
   "cell_type": "code",
   "execution_count": 1,
   "id": "4f15e322-32a7-4d0e-8ccd-42c5e8e9606b",
   "metadata": {},
   "outputs": [],
   "source": [
    "import matplotlib.pyplot as plt\n",
    "import pandas as pd\n",
    "import os\n",
    "import io\n",
    "import gcsfs\n",
    "from google.cloud import bigquery, storage\n",
    "from google.oauth2 import credentials"
   ]
  },
  {
   "cell_type": "code",
   "execution_count": 2,
   "id": "7961a15c-aeca-4392-a52e-95d54dcb3eaf",
   "metadata": {},
   "outputs": [],
   "source": [
    "def get_blob(blobs):\n",
    "    for blob in blobs:\n",
    "        yield blob"
   ]
  },
  {
   "cell_type": "code",
   "execution_count": null,
   "id": "ac5dca08-168c-4ef9-bc55-200ef359f574",
   "metadata": {},
   "outputs": [],
   "source": [
    "image_dir='/spectrain/images/'\n",
    "# plt.figure(figsize=(300,40))\n",
    "\n",
    "# initialize the GCS client\n",
    "storage_client = storage.Client()\n",
    "\n",
    "# get the storage bucket\n",
    "bucket = storage_client.get_bucket('spectrain')\n",
    "\n",
    "# Note: Client.list_blobs requires at least package version 1.17.0.\n",
    "blobs = storage_client.list_blobs('spectrain', prefix='Kidney_TX_Data')\n",
    "\n",
    "i = 0 # counter to use for breaking\n",
    "\n",
    "# Note: The call returns a response only when the iterator is consumed.\n",
    "for blob in get_blob(blobs):\n",
    "    if(\"output\" in blob.name):\n",
    "        plt.figure(figsize=(300,40), clear=True)\n",
    "        df=pd.read_csv(\"gs://spectrain/\"+blob.name, sep='\\s', header=None)\n",
    "        df.columns=['x_axis', 'y_axis']\n",
    "        plt.plot(df['x_axis'], df['y_axis'])\n",
    "        plt.axis('off')\n",
    "        buf = io.BytesIO()\n",
    "        plt.savefig(buf, format='png')\n",
    "        filename = blob.name.split('.')[0] # remove the suffix/file extension\n",
    "        filename = filename.split('/')[1] # remove the containing directory name from filename\n",
    "        upload_blob = bucket.blob(image_dir+filename+'_nmr.png')\n",
    "        upload_blob.upload_from_file(buf, content_type='image/png', rewind=True)\n",
    "        buf.close()\n",
    "        i=i+1\n",
    "        if i==30:\n",
    "            break"
   ]
  },
  {
   "cell_type": "code",
   "execution_count": null,
   "id": "39cfc84c-fab8-4bbd-ae26-ed5383e541ea",
   "metadata": {},
   "outputs": [],
   "source": []
  }
 ],
 "metadata": {
  "environment": {
   "kernel": "python3",
   "name": "tf2-gpu.2-8.m108",
   "type": "gcloud",
   "uri": "gcr.io/deeplearning-platform-release/tf2-gpu.2-8:m108"
  },
  "kernelspec": {
   "display_name": "Python 3 (ipykernel)",
   "language": "python",
   "name": "python3"
  },
  "language_info": {
   "codemirror_mode": {
    "name": "ipython",
    "version": 3
   },
   "file_extension": ".py",
   "mimetype": "text/x-python",
   "name": "python",
   "nbconvert_exporter": "python",
   "pygments_lexer": "ipython3",
   "version": "3.7.12"
  }
 },
 "nbformat": 4,
 "nbformat_minor": 5
}
