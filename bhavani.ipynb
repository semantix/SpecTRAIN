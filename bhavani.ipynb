{
 "cells": [
  {
   "cell_type": "code",
   "execution_count": 66,
   "id": "4f15e322-32a7-4d0e-8ccd-42c5e8e9606b",
   "metadata": {},
   "outputs": [],
   "source": [
    "import matplotlib\n",
    "matplotlib.use('agg')\n",
    "import matplotlib.pyplot as plt\n",
    "import pandas as pd\n",
    "import os\n",
    "import io\n",
    "from sklearn.model_selection import train_test_split\n",
    "import gcsfs\n",
    "from google.cloud import bigquery, storage\n",
    "from google.oauth2 import credentials"
   ]
  },
  {
   "cell_type": "code",
   "execution_count": null,
   "id": "7961a15c-aeca-4392-a52e-95d54dcb3eaf",
   "metadata": {},
   "outputs": [],
   "source": [
    "def get_blob(blobs):\n",
    "    for blob in blobs:\n",
    "        yield blob"
   ]
  },
  {
   "cell_type": "code",
   "execution_count": null,
   "id": "ac5dca08-168c-4ef9-bc55-200ef359f574",
   "metadata": {},
   "outputs": [],
   "source": [
    "## This code is to create images from .txt files\n",
    "image_dir='images/'\n",
    "# plt.figure(figsize=(300,40))\n",
    "\n",
    "# initialize the GCS client\n",
    "storage_client = storage.Client()\n",
    "\n",
    "# get the storage bucket\n",
    "bucket = storage_client.get_bucket('spectrain')\n",
    "\n",
    "# Note: Client.list_blobs requires at least package version 1.17.0.\n",
    "blobs = storage_client.list_blobs('spectrain', prefix='Kidney_TX_Data')\n",
    "\n",
    "\n",
    "# Note: The call returns a response only when the iterator is consumed.\n",
    "for blob in get_blob(blobs):\n",
    "    if(\"output\" in blob.name):\n",
    "        plt.figure(figsize=(300,40), clear=True)\n",
    "        df=pd.read_csv(\"gs://spectrain/\"+blob.name, sep='\\s', header=None)\n",
    "        df.columns=['x_axis', 'y_axis']\n",
    "        plt.plot(df['x_axis'], df['y_axis'])\n",
    "        plt.axis('off')\n",
    "        buf = io.BytesIO()\n",
    "        plt.savefig(buf, format='png')\n",
    "        filename = blob.name.split('.')[0] # remove the suffix/file extension\n",
    "        filename = filename.split('/')[1] # remove the containing directory name from filename\n",
    "        upload_blob = bucket.blob(image_dir+filename+'_nmr.png')\n",
    "        upload_blob.upload_from_file(buf, content_type='image/png', rewind=True)\n",
    "        buf.close()\n",
    "        plt.close(\"all\")\n",
    "        plt.close()"
   ]
  },
  {
   "cell_type": "code",
   "execution_count": null,
   "id": "39cfc84c-fab8-4bbd-ae26-ed5383e541ea",
   "metadata": {},
   "outputs": [],
   "source": []
  },
  {
   "cell_type": "code",
   "execution_count": null,
   "id": "a0a0a152-2654-4bc9-9337-ae414f200574",
   "metadata": {},
   "outputs": [],
   "source": [
    "# Create import file for AutoML IMAGE CLASSIFICATION\n",
    "\n",
    "df=pd.read_csv('gs://qwiklabs-asl-00-c812c3b423f2/spec_train_output/input/Kidney_TX_data.csv')\n",
    "df['Spectrum_file_new'] = df.Spectrum_file.str.split('\\.').str[0]\n",
    "df['Spectrum_file_new'] = \"gs://spectrain/spec_train_output/images/\" + df['Spectrum_file_new'] + '_nmr.png'\n",
    "df = df[['Spectrum_file_new', 'Case']]\n",
    "df.to_csv('gs://spectrain/spec_train_output/image_dir_paths_labels1.csv', index=False, header=None)"
   ]
  },
  {
   "cell_type": "code",
   "execution_count": null,
   "id": "8689e4a1-c46c-4c77-9564-a47682d5d583",
   "metadata": {},
   "outputs": [],
   "source": []
  },
  {
   "cell_type": "code",
   "execution_count": 148,
   "id": "3aa9cf89-e6e2-4046-a6bc-4902d622a002",
   "metadata": {},
   "outputs": [],
   "source": [
    "# Create data split column for structured data\n",
    "\n",
    "df=pd.read_csv('gs://qwiklabs-asl-00-c812c3b423f2/spec_train_output/input/Kidney_TX_data.csv')\n",
    "X=df.drop(columns=['Case'])\n",
    "y=df[['Case']]\n",
    "X_train, X_test, y_train, y_test = train_test_split(X, y, test_size=0.15, stratify=y, random_state=42)\n",
    "X_train, X_val, y_train, y_val = train_test_split(X_train, y_train, test_size=0.15, stratify=y_train, random_state=42)\n",
    "X_train['data_split'] = 'TRAIN'\n",
    "X_val['data_split'] = 'VALID'\n",
    "X_test['data_split'] = 'TEST'\n",
    "X_train['Case'] = y_train\n",
    "X_val['Case'] = y_val\n",
    "X_test['Case'] = y_test\n",
    "final_df=pd.concat([X_train, X_val, X_test])\n",
    "final_df.to_csv('gs://spectrain/Kidney_TX_data_with_split.csv', index=False)"
   ]
  },
  {
   "cell_type": "code",
   "execution_count": null,
   "id": "836cc6f1-c832-4636-a25c-ea9f8e301a97",
   "metadata": {},
   "outputs": [],
   "source": []
  },
  {
   "cell_type": "code",
   "execution_count": 181,
   "id": "10971788-d00a-40a7-b3a3-050e0e2ad6f9",
   "metadata": {},
   "outputs": [],
   "source": [
    "# Create data split column for images data import file\n",
    "data_split_df=pd.read_csv('gs://spectrain/Kidney_TX_data_with_split.csv')\n",
    "image_paths_df=pd.read_csv('gs://spectrain/spec_train_output/image_dir_paths_labels1.csv', header=None)\n",
    "data_split_df['Spectrum_file_new'] = data_split_df.Spectrum_file.str.split('\\.').str[0]\n",
    "data_split_df['Spectrum_file_new'] = \"gs://spectrain/spec_train_output/images/\" + data_split_df['Spectrum_file_new'] + '_nmr.png'\n",
    "data_split_df = data_split_df[['Spectrum_file_new', 'data_split']]\n",
    "image_paths_df.columns=['Spectrum_file_new', 'Case']\n",
    "image_paths_df=pd.merge(image_paths_df, data_split_df, on=['Spectrum_file_new'], how='inner')\n",
    "image_paths_df=image_paths_df[['data_split', 'Spectrum_file_new', 'Case']]\n",
    "image_paths_df['data_split'] = image_paths_df.data_split.replace({'TRAIN':'TRAINING', 'VALID':'VALIDATION', 'TEST':'TEST'})\n",
    "image_paths_df.to_csv('gs://spectrain/spec_train_output/image_dir_paths_labels_with_split.csv', header=None, index=False)"
   ]
  }
 ],
 "metadata": {
  "environment": {
   "kernel": "python3",
   "name": "tf2-gpu.2-8.m108",
   "type": "gcloud",
   "uri": "gcr.io/deeplearning-platform-release/tf2-gpu.2-8:m108"
  },
  "kernelspec": {
   "display_name": "Python 3 (ipykernel)",
   "language": "python",
   "name": "python3"
  },
  "language_info": {
   "codemirror_mode": {
    "name": "ipython",
    "version": 3
   },
   "file_extension": ".py",
   "mimetype": "text/x-python",
   "name": "python",
   "nbconvert_exporter": "python",
   "pygments_lexer": "ipython3",
   "version": "3.7.12"
  }
 },
 "nbformat": 4,
 "nbformat_minor": 5
}
