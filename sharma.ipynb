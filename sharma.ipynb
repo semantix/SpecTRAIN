{
 "cells": [
  {
   "cell_type": "code",
   "execution_count": 1,
   "id": "c598d62e-ef68-41c9-aede-ccd63462b825",
   "metadata": {},
   "outputs": [
    {
     "name": "stdout",
     "output_type": "stream",
     "text": [
      "total 32\n",
      "drwxr-xr-x 4 jupyter jupyter 4096 Jun  8 17:28 .\n",
      "drwxr-xr-x 3 jupyter jupyter 4096 Jun  8 17:24 ..\n",
      "drwxr-xr-x 8 jupyter jupyter 4096 Jun  8 17:28 .git\n",
      "drwxr-xr-x 2 jupyter jupyter 4096 Jun  8 17:28 .ipynb_checkpoints\n",
      "-rw-r--r-- 1 jupyter jupyter   59 Jun  8 17:23 README.md\n",
      "-rw-r--r-- 1 jupyter jupyter  783 Jun  8 17:26 bhavani.ipynb\n",
      "-rw-r--r-- 1 jupyter jupyter  783 Jun  8 17:28 pmuk.ipynb\n",
      "-rw-r--r-- 1 jupyter jupyter  783 Jun  8 17:25 sharma.ipynb\n",
      "-rw-r--r-- 1 jupyter jupyter    0 Jun  8 17:28 untitled.txt\n"
     ]
    }
   ],
   "source": [
    "! ls -al"
   ]
  },
  {
   "cell_type": "code",
   "execution_count": null,
   "id": "bcb16af6-7fb6-4918-a613-edf76124a8af",
   "metadata": {},
   "outputs": [],
   "source": []
  }
 ],
 "metadata": {
  "environment": {
   "kernel": "python3",
   "name": "tf2-gpu.2-8.m108",
   "type": "gcloud",
   "uri": "gcr.io/deeplearning-platform-release/tf2-gpu.2-8:m108"
  },
  "kernelspec": {
   "display_name": "Python 3 (ipykernel)",
   "language": "python",
   "name": "python3"
  },
  "language_info": {
   "codemirror_mode": {
    "name": "ipython",
    "version": 3
   },
   "file_extension": ".py",
   "mimetype": "text/x-python",
   "name": "python",
   "nbconvert_exporter": "python",
   "pygments_lexer": "ipython3",
   "version": "3.7.12"
  }
 },
 "nbformat": 4,
 "nbformat_minor": 5
}
