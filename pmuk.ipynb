{
 "cells": [
  {
   "cell_type": "code",
   "execution_count": 1,
   "id": "a94cd2d5-22d3-4cfb-adf6-674cb7e24e0f",
   "metadata": {},
   "outputs": [],
   "source": [
    "import matplotlib.pyplot as plt\n",
    "import pandas as pd\n",
    "import os\n",
    "import io\n",
    "from google.cloud import bigquery, storage\n",
    "from google.oauth2 import credentials # NOTE this is for future adaption for MCC deployed solution using creds"
   ]
  },
  {
   "cell_type": "code",
   "execution_count": null,
   "id": "7af79fbf-a332-4727-bb71-0e831626d3ab",
   "metadata": {},
   "outputs": [],
   "source": [
    "def get_blob(blobs):\n",
    "    for blob in blobs:\n",
    "        yield blob\n",
    "    \n",
    "def write_png_to_gcs(blob, bucket):\n",
    "    print(blob.name)\n",
    "    #NOTE: important to use pyplot instantiation this way to ensure no memory leaks\n",
    "    fig = plt.figure(num=1,figsize=(300,40), clear=True)\n",
    "    data = blob.download_as_bytes()\n",
    "    df = pd.read_csv(io.BytesIO(data), sep='\\s', header=None)\n",
    "    # df=pd.read_csv(blob.name, sep='\\s', header=None)\n",
    "    # filename=filename.split('.')[0]\n",
    "    df.columns=['x_axis', 'y_axis']\n",
    "    \n",
    "    ax = fig.add_subplot()\n",
    "    ax.plot(df['x_axis'], df['y_axis'])\n",
    "    ax.axis('off')\n",
    "\n",
    "    buf = io.BytesIO()\n",
    "    fig.savefig(buf, format='png')\n",
    "\n",
    "    filename = blob.name.split('.')[0] # remove the suffix/file extension\n",
    "    filename = filename.split('/')[1] # remove the containing directory name from filename\n",
    "\n",
    "    upload_blob = bucket.blob(image_dir+filename+'_nmr.png')\n",
    "    upload_blob.upload_from_file(buf, content_type='image/png', rewind=True)\n",
    "\n",
    "    # plt.close()\n",
    "    buf.close()\n",
    "    del df\n",
    "    # del plt\n",
    "    del data\n",
    "    del upload_blob\n",
    "    \n",
    "    return"
   ]
  },
  {
   "cell_type": "code",
   "execution_count": null,
   "id": "655390b1-eae9-4625-bb36-eb09616dc846",
   "metadata": {},
   "outputs": [],
   "source": [
    "image_dir='spec_train_output/images/'\n",
    "# plt.figure(figsize=(300,40))\n",
    "\n",
    "# initialize the GCS client\n",
    "storage_client = storage.Client()\n",
    "\n",
    "# get the storage bucket\n",
    "bucket = storage_client.get_bucket('spectrain')\n",
    "\n",
    "# Note: Client.list_blobs requires at least package version 1.17.0.\n",
    "blobs = storage_client.list_blobs('spectrain', prefix='Kidney_TX_Data')\n",
    "\n",
    "i = 0 # counter to use for breaking\n",
    "\n",
    "# Note: The call returns a response only when the iterator is consumed.\n",
    "for blob in get_blob(blobs):\n",
    "    if(\"output\" in blob.name):\n",
    "        write_png_to_gcs(blob)\n",
    "        # i = i+1\n",
    "        # if(i == 3):\n",
    "        #     break;\n"
   ]
  },
  {
   "cell_type": "code",
   "execution_count": null,
   "id": "0f55aef8-aff2-4a71-9a97-d95182480046",
   "metadata": {},
   "outputs": [],
   "source": []
  }
 ],
 "metadata": {
  "environment": {
   "kernel": "python3",
   "name": "tf2-gpu.2-8.m108",
   "type": "gcloud",
   "uri": "gcr.io/deeplearning-platform-release/tf2-gpu.2-8:m108"
  },
  "kernelspec": {
   "display_name": "Python 3 (ipykernel)",
   "language": "python",
   "name": "python3"
  },
  "language_info": {
   "codemirror_mode": {
    "name": "ipython",
    "version": 3
   },
   "file_extension": ".py",
   "mimetype": "text/x-python",
   "name": "python",
   "nbconvert_exporter": "python",
   "pygments_lexer": "ipython3",
   "version": "3.7.12"
  }
 },
 "nbformat": 4,
 "nbformat_minor": 5
}
